{
 "cells": [
  {
   "cell_type": "code",
   "execution_count": 4,
   "metadata": {},
   "outputs": [
    {
     "ename": "KeyboardInterrupt",
     "evalue": "",
     "output_type": "error",
     "traceback": [
      "\u001b[1;31m---------------------------------------------------------------------------\u001b[0m",
      "\u001b[1;31mKeyboardInterrupt\u001b[0m                         Traceback (most recent call last)",
      "\u001b[1;32m<ipython-input-4-dd9706cf9883>\u001b[0m in \u001b[0;36m<module>\u001b[1;34m\u001b[0m\n\u001b[0;32m      5\u001b[0m     \u001b[1;34m\"daily fluid intake is: About 15.5 cups (3.7 liters) of fluids a day for men. About 11.5 cup\"\u001b[0m\u001b[1;33m+\u001b[0m\u001b[1;33m\u001b[0m\u001b[1;33m\u001b[0m\u001b[0m\n\u001b[0;32m      6\u001b[0m     \"(2.7 liters) of fluids a day for women.\",timeout=5,app_icon=r\"C:\\Users\\omver\\Desktop\\pyth-revise\\water.ico\")\n\u001b[1;32m----> 7\u001b[1;33m     \u001b[0mtime\u001b[0m\u001b[1;33m.\u001b[0m\u001b[0msleep\u001b[0m\u001b[1;33m(\u001b[0m\u001b[1;36m10\u001b[0m\u001b[1;33m)\u001b[0m\u001b[1;33m\u001b[0m\u001b[1;33m\u001b[0m\u001b[0m\n\u001b[0m",
      "\u001b[1;31mKeyboardInterrupt\u001b[0m: "
     ]
    }
   ],
   "source": [
    "from plyer import notification\n",
    "import time\n",
    "while True:\n",
    "    notification.notify(title=\"Please Drink Water!\",message=\"The U.S. National Academies of Sciences, Engineering, and Medicine determined that an adequate\"+\n",
    "    \"daily fluid intake is: About 15.5 cups (3.7 liters) of fluids a day for men. About 11.5 cup\"+\n",
    "    \"(2.7 liters) of fluids a day for women.\",timeout=5,app_icon=r\"C:\\Users\\omver\\Desktop\\pyth-revise\\water.ico\")\n",
    "    time.sleep(60*60)\n",
    "    #use pythonw .\\drink_water_notification.py to run in background!"
   ]
  }
 ],
 "metadata": {
  "kernelspec": {
   "display_name": "Python 3",
   "language": "python",
   "name": "python3"
  },
  "language_info": {
   "codemirror_mode": {
    "name": "ipython",
    "version": 3
   },
   "file_extension": ".py",
   "mimetype": "text/x-python",
   "name": "python",
   "nbconvert_exporter": "python",
   "pygments_lexer": "ipython3",
   "version": "3.9.0"
  }
 },
 "nbformat": 4,
 "nbformat_minor": 4
}
